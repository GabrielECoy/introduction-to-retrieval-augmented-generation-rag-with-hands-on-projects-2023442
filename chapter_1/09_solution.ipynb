{
 "cells": [
  {
   "cell_type": "code",
   "execution_count": 1,
   "metadata": {},
   "outputs": [],
   "source": [
    "import os\n",
    "import dotenv\n",
    "\n",
    "dotenv.load_dotenv()\n",
    "\n",
    "if not os.getenv(\"GITHUB_TOKEN\"):\n",
    "    raise ValueError(\"GITHUB_TOKEN is not set\")\n",
    "\n",
    "os.environ[\"OPENAI_API_KEY\"] = os.getenv(\"GITHUB_TOKEN\")\n",
    "os.environ[\"OPENAI_BASE_URL\"] = \"https://models.inference.ai.azure.com/\""
   ]
  },
  {
   "cell_type": "code",
   "execution_count": 2,
   "metadata": {},
   "outputs": [],
   "source": [
    "from llama_index.llms.openai import OpenAI\n",
    "from llama_index.embeddings.openai import OpenAIEmbedding\n",
    "from llama_index.core import VectorStoreIndex, SimpleDirectoryReader\n",
    "from llama_index.core import Settings\n",
    "import os\n",
    "\n",
    "llm = OpenAI(\n",
    "    model=\"gpt-4o-mini\",\n",
    "    api_key=os.getenv(\"OPENAI_API_KEY\"),\n",
    "    api_base=os.getenv(\"OPENAI_BASE_URL\"),\n",
    ")\n",
    "\n",
    "embed_model = OpenAIEmbedding(\n",
    "    model=\"text-embedding-3-small\",\n",
    "    api_key=os.getenv(\"OPENAI_API_KEY\"),\n",
    "    api_base=os.getenv(\"OPENAI_BASE_URL\"),\n",
    ")\n",
    "\n",
    "Settings.embed_model = embed_model"
   ]
  },
  {
   "cell_type": "code",
   "execution_count": 3,
   "metadata": {},
   "outputs": [],
   "source": [
    "#Note: we have to reduce the batch size to stay within the token limits of the free service\n",
    "documents = SimpleDirectoryReader(\"../Big Star Collectibles\").load_data()\n",
    "index = VectorStoreIndex.from_documents(documents, insert_batch_size=150)"
   ]
  },
  {
   "cell_type": "code",
   "execution_count": 4,
   "metadata": {},
   "outputs": [
    {
     "data": {
      "text/plain": [
       "Response(response='Big Star Collectibles was officially launched in 2014.', source_nodes=[NodeWithScore(node=TextNode(id_='04909dbd-bf99-492e-95da-979c7fe356e7', embedding=None, metadata={'file_path': '/Users/yujian/Documents/workspace/introduction-to-retrieval-augmented-generation-rag-with-hands-on-projects-2023442/chapter_1/../Big Star Collectibles/Our Story.txt', 'file_name': 'Our Story.txt', 'file_type': 'text/plain', 'file_size': 877, 'creation_date': '2025-03-21', 'last_modified_date': '2025-03-21'}, excluded_embed_metadata_keys=['file_name', 'file_type', 'file_size', 'creation_date', 'last_modified_date', 'last_accessed_date'], excluded_llm_metadata_keys=['file_name', 'file_type', 'file_size', 'creation_date', 'last_modified_date', 'last_accessed_date'], relationships={<NodeRelationship.SOURCE: '1'>: RelatedNodeInfo(node_id='3df6f4be-418f-412f-996b-2ee9bc3a3332', node_type='4', metadata={'file_path': '/Users/yujian/Documents/workspace/introduction-to-retrieval-augmented-generation-rag-with-hands-on-projects-2023442/chapter_1/../Big Star Collectibles/Our Story.txt', 'file_name': 'Our Story.txt', 'file_type': 'text/plain', 'file_size': 877, 'creation_date': '2025-03-21', 'last_modified_date': '2025-03-21'}, hash='fe8a5d9704850ad08bd0b5c431468825fc80bfdedf0c6dbe5d6a5ce0a380df46')}, metadata_template='{key}: {value}', metadata_separator='\\n', text='Our story began at the International Arts Conference in 2013. Our founder, Saura Chen, a trained photographer, captured a series of candid images and portraits of the keynote speaker and presenters at the event, and provided print copies of the photographs to attendees at the end of the day. When she overheard a group of attendees attempting to secure autographs from the presenters and negotiating photo trades, the seeds for Big Star Collectibles were planted. \\n\\nLaunched officially in 2014, Saura was determined to create high-quality trading cards that were desirable and valuable for the collecting community. Besides monthly releases for the casual collector, Big Star Collectibles also releases limited editions and one-of-a-kind items. \\n\\nBig Star Collectibles has grown over the years to include memorabilia, contests, events, appraisals, and consultation services.', mimetype='text/plain', start_char_idx=0, end_char_idx=875, metadata_seperator='\\n', text_template='{metadata_str}\\n\\n{content}'), score=0.6724821209564479), NodeWithScore(node=TextNode(id_='9f94ab36-7a78-4168-a122-dc7b295c3595', embedding=None, metadata={'file_path': '/Users/yujian/Documents/workspace/introduction-to-retrieval-augmented-generation-rag-with-hands-on-projects-2023442/chapter_1/../Big Star Collectibles/What We Do.txt', 'file_name': 'What We Do.txt', 'file_type': 'text/plain', 'file_size': 1212, 'creation_date': '2025-03-21', 'last_modified_date': '2025-03-21'}, excluded_embed_metadata_keys=['file_name', 'file_type', 'file_size', 'creation_date', 'last_modified_date', 'last_accessed_date'], excluded_llm_metadata_keys=['file_name', 'file_type', 'file_size', 'creation_date', 'last_modified_date', 'last_accessed_date'], relationships={<NodeRelationship.SOURCE: '1'>: RelatedNodeInfo(node_id='775709c2-89bc-4a43-a19f-6709996a9fda', node_type='4', metadata={'file_path': '/Users/yujian/Documents/workspace/introduction-to-retrieval-augmented-generation-rag-with-hands-on-projects-2023442/chapter_1/../Big Star Collectibles/What We Do.txt', 'file_name': 'What We Do.txt', 'file_type': 'text/plain', 'file_size': 1212, 'creation_date': '2025-03-21', 'last_modified_date': '2025-03-21'}, hash='943fc33edbdd9332292a7333a66b86a32fa4f6ed783a1ec804c53334162e73ce')}, metadata_template='{key}: {value}', metadata_separator='\\n', text='We go to the far reaches of the galaxy to bring top quality, authentic, and rare collectibles right to your door. \\n\\nDesign and Sell\\nThe most apparent of our activities is designing and selling collectibles that reflect what our customers enjoy and want. Our team of product designers analyze and speculate new collectibles based on customer and market feedback. And we love surprising you.\\n\\nSearch and Broker\\nFor a fee, our experts can assist you in finding a particular Big Star Collectibles item that you have been looking for. Big Star Collectibles can also broker sales and trades among our customers.\\n\\nEducate\\nBesides being able to assess a piece or collection for its authenticity, we also take great care in educating our customers and potential customers on the nuances of fake or altered collectibles. \\n\\nConsult\\nWe welcome your inquiries about products and collectibles from other sources. Our experts can give you an idea of an item’s sale and retail price points, as well as calculate the cash basis for insurance against theft or damage. These consults are done one-on-one with you to retain your privacy, either in our studio or via 3D-video chat. Contact us today to set up an appointment.', mimetype='text/plain', start_char_idx=0, end_char_idx=1203, metadata_seperator='\\n', text_template='{metadata_str}\\n\\n{content}'), score=0.6258342310854959)], metadata={'04909dbd-bf99-492e-95da-979c7fe356e7': {'file_path': '/Users/yujian/Documents/workspace/introduction-to-retrieval-augmented-generation-rag-with-hands-on-projects-2023442/chapter_1/../Big Star Collectibles/Our Story.txt', 'file_name': 'Our Story.txt', 'file_type': 'text/plain', 'file_size': 877, 'creation_date': '2025-03-21', 'last_modified_date': '2025-03-21'}, '9f94ab36-7a78-4168-a122-dc7b295c3595': {'file_path': '/Users/yujian/Documents/workspace/introduction-to-retrieval-augmented-generation-rag-with-hands-on-projects-2023442/chapter_1/../Big Star Collectibles/What We Do.txt', 'file_name': 'What We Do.txt', 'file_type': 'text/plain', 'file_size': 1212, 'creation_date': '2025-03-21', 'last_modified_date': '2025-03-21'}})"
      ]
     },
     "execution_count": 4,
     "metadata": {},
     "output_type": "execute_result"
    }
   ],
   "source": [
    "# solution\n",
    "query_engine = index.as_query_engine(\n",
    "  llm=llm\n",
    ")\n",
    "query_engine.query(\"When was Big Star Collectibles Started?\")"
   ]
  },
  {
   "cell_type": "code",
   "execution_count": 5,
   "metadata": {},
   "outputs": [
    {
     "data": {
      "text/plain": [
       "Response(response='Big Star Collectibles was started by Saura Chen.', source_nodes=[NodeWithScore(node=TextNode(id_='04909dbd-bf99-492e-95da-979c7fe356e7', embedding=None, metadata={'file_path': '/Users/yujian/Documents/workspace/introduction-to-retrieval-augmented-generation-rag-with-hands-on-projects-2023442/chapter_1/../Big Star Collectibles/Our Story.txt', 'file_name': 'Our Story.txt', 'file_type': 'text/plain', 'file_size': 877, 'creation_date': '2025-03-21', 'last_modified_date': '2025-03-21'}, excluded_embed_metadata_keys=['file_name', 'file_type', 'file_size', 'creation_date', 'last_modified_date', 'last_accessed_date'], excluded_llm_metadata_keys=['file_name', 'file_type', 'file_size', 'creation_date', 'last_modified_date', 'last_accessed_date'], relationships={<NodeRelationship.SOURCE: '1'>: RelatedNodeInfo(node_id='3df6f4be-418f-412f-996b-2ee9bc3a3332', node_type='4', metadata={'file_path': '/Users/yujian/Documents/workspace/introduction-to-retrieval-augmented-generation-rag-with-hands-on-projects-2023442/chapter_1/../Big Star Collectibles/Our Story.txt', 'file_name': 'Our Story.txt', 'file_type': 'text/plain', 'file_size': 877, 'creation_date': '2025-03-21', 'last_modified_date': '2025-03-21'}, hash='fe8a5d9704850ad08bd0b5c431468825fc80bfdedf0c6dbe5d6a5ce0a380df46')}, metadata_template='{key}: {value}', metadata_separator='\\n', text='Our story began at the International Arts Conference in 2013. Our founder, Saura Chen, a trained photographer, captured a series of candid images and portraits of the keynote speaker and presenters at the event, and provided print copies of the photographs to attendees at the end of the day. When she overheard a group of attendees attempting to secure autographs from the presenters and negotiating photo trades, the seeds for Big Star Collectibles were planted. \\n\\nLaunched officially in 2014, Saura was determined to create high-quality trading cards that were desirable and valuable for the collecting community. Besides monthly releases for the casual collector, Big Star Collectibles also releases limited editions and one-of-a-kind items. \\n\\nBig Star Collectibles has grown over the years to include memorabilia, contests, events, appraisals, and consultation services.', mimetype='text/plain', start_char_idx=0, end_char_idx=875, metadata_seperator='\\n', text_template='{metadata_str}\\n\\n{content}'), score=0.6798658102597704), NodeWithScore(node=TextNode(id_='9f94ab36-7a78-4168-a122-dc7b295c3595', embedding=None, metadata={'file_path': '/Users/yujian/Documents/workspace/introduction-to-retrieval-augmented-generation-rag-with-hands-on-projects-2023442/chapter_1/../Big Star Collectibles/What We Do.txt', 'file_name': 'What We Do.txt', 'file_type': 'text/plain', 'file_size': 1212, 'creation_date': '2025-03-21', 'last_modified_date': '2025-03-21'}, excluded_embed_metadata_keys=['file_name', 'file_type', 'file_size', 'creation_date', 'last_modified_date', 'last_accessed_date'], excluded_llm_metadata_keys=['file_name', 'file_type', 'file_size', 'creation_date', 'last_modified_date', 'last_accessed_date'], relationships={<NodeRelationship.SOURCE: '1'>: RelatedNodeInfo(node_id='775709c2-89bc-4a43-a19f-6709996a9fda', node_type='4', metadata={'file_path': '/Users/yujian/Documents/workspace/introduction-to-retrieval-augmented-generation-rag-with-hands-on-projects-2023442/chapter_1/../Big Star Collectibles/What We Do.txt', 'file_name': 'What We Do.txt', 'file_type': 'text/plain', 'file_size': 1212, 'creation_date': '2025-03-21', 'last_modified_date': '2025-03-21'}, hash='943fc33edbdd9332292a7333a66b86a32fa4f6ed783a1ec804c53334162e73ce')}, metadata_template='{key}: {value}', metadata_separator='\\n', text='We go to the far reaches of the galaxy to bring top quality, authentic, and rare collectibles right to your door. \\n\\nDesign and Sell\\nThe most apparent of our activities is designing and selling collectibles that reflect what our customers enjoy and want. Our team of product designers analyze and speculate new collectibles based on customer and market feedback. And we love surprising you.\\n\\nSearch and Broker\\nFor a fee, our experts can assist you in finding a particular Big Star Collectibles item that you have been looking for. Big Star Collectibles can also broker sales and trades among our customers.\\n\\nEducate\\nBesides being able to assess a piece or collection for its authenticity, we also take great care in educating our customers and potential customers on the nuances of fake or altered collectibles. \\n\\nConsult\\nWe welcome your inquiries about products and collectibles from other sources. Our experts can give you an idea of an item’s sale and retail price points, as well as calculate the cash basis for insurance against theft or damage. These consults are done one-on-one with you to retain your privacy, either in our studio or via 3D-video chat. Contact us today to set up an appointment.', mimetype='text/plain', start_char_idx=0, end_char_idx=1203, metadata_seperator='\\n', text_template='{metadata_str}\\n\\n{content}'), score=0.6478926534574576)], metadata={'04909dbd-bf99-492e-95da-979c7fe356e7': {'file_path': '/Users/yujian/Documents/workspace/introduction-to-retrieval-augmented-generation-rag-with-hands-on-projects-2023442/chapter_1/../Big Star Collectibles/Our Story.txt', 'file_name': 'Our Story.txt', 'file_type': 'text/plain', 'file_size': 877, 'creation_date': '2025-03-21', 'last_modified_date': '2025-03-21'}, '9f94ab36-7a78-4168-a122-dc7b295c3595': {'file_path': '/Users/yujian/Documents/workspace/introduction-to-retrieval-augmented-generation-rag-with-hands-on-projects-2023442/chapter_1/../Big Star Collectibles/What We Do.txt', 'file_name': 'What We Do.txt', 'file_type': 'text/plain', 'file_size': 1212, 'creation_date': '2025-03-21', 'last_modified_date': '2025-03-21'}})"
      ]
     },
     "execution_count": 5,
     "metadata": {},
     "output_type": "execute_result"
    }
   ],
   "source": [
    "query_engine.query(\"Who started Big Star Collectibles?\")"
   ]
  },
  {
   "cell_type": "code",
   "execution_count": null,
   "metadata": {},
   "outputs": [],
   "source": []
  }
 ],
 "metadata": {
  "kernelspec": {
   "display_name": "intro",
   "language": "python",
   "name": "python3"
  },
  "language_info": {
   "codemirror_mode": {
    "name": "ipython",
    "version": 3
   },
   "file_extension": ".py",
   "mimetype": "text/x-python",
   "name": "python",
   "nbconvert_exporter": "python",
   "pygments_lexer": "ipython3",
   "version": "3.12.7"
  }
 },
 "nbformat": 4,
 "nbformat_minor": 2
}
