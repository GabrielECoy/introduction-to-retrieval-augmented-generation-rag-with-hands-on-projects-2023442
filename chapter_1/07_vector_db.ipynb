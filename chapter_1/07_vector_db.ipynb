{
 "cells": [
  {
   "cell_type": "code",
   "execution_count": 1,
   "metadata": {},
   "outputs": [],
   "source": [
    "import os\n",
    "import dotenv\n",
    "\n",
    "dotenv.load_dotenv()\n",
    "\n",
    "if not os.getenv(\"GITHUB_TOKEN\"):\n",
    "    raise ValueError(\"GITHUB_TOKEN is not set\")\n",
    "\n",
    "os.environ[\"OPENAI_API_KEY\"] = os.getenv(\"GITHUB_TOKEN\")\n",
    "os.environ[\"OPENAI_BASE_URL\"] = \"https://models.inference.ai.azure.com/\""
   ]
  },
  {
   "cell_type": "code",
   "execution_count": 2,
   "metadata": {},
   "outputs": [],
   "source": [
    "from llama_index.embeddings.openai import OpenAIEmbedding\n",
    "from llama_index.core import VectorStoreIndex, SimpleDirectoryReader\n",
    "from llama_index.core import Settings"
   ]
  },
  {
   "cell_type": "code",
   "execution_count": 3,
   "metadata": {},
   "outputs": [],
   "source": [
    "embed_model = OpenAIEmbedding(\n",
    "    model=\"text-embedding-3-small\",\n",
    "    api_key=os.getenv(\"OPENAI_API_KEY\"),\n",
    "    api_base=os.getenv(\"OPENAI_BASE_URL\"),\n",
    ")\n",
    "\n",
    "Settings.embed_model = embed_model"
   ]
  },
  {
   "cell_type": "code",
   "execution_count": 4,
   "metadata": {},
   "outputs": [],
   "source": [
    "#Note: we have to reduce the batch size to stay within the token limits of the free service\n",
    "documents = SimpleDirectoryReader(\"../Big Star Collectibles\").load_data()\n",
    "index = VectorStoreIndex.from_documents(documents, insert_batch_size=150)\n",
    "index.storage_context.persist(persist_dir=\"../local_index\")"
   ]
  },
  {
   "cell_type": "code",
   "execution_count": 5,
   "metadata": {},
   "outputs": [],
   "source": [
    "retriever = index.as_retriever()"
   ]
  },
  {
   "cell_type": "code",
   "execution_count": 6,
   "metadata": {},
   "outputs": [
    {
     "data": {
      "text/plain": [
       "[NodeWithScore(node=TextNode(id_='1f84111b-1b16-4db0-84d4-4dfe15861f93', embedding=None, metadata={'file_path': '/workspaces/introduction-to-retrieval-augmented-generation-rag-with-hands-on-projects-2023442/chapter_1/../Big Star Collectibles/Our Story.txt', 'file_name': 'Our Story.txt', 'file_type': 'text/plain', 'file_size': 877, 'creation_date': '2025-07-17', 'last_modified_date': '2025-07-17'}, excluded_embed_metadata_keys=['file_name', 'file_type', 'file_size', 'creation_date', 'last_modified_date', 'last_accessed_date'], excluded_llm_metadata_keys=['file_name', 'file_type', 'file_size', 'creation_date', 'last_modified_date', 'last_accessed_date'], relationships={<NodeRelationship.SOURCE: '1'>: RelatedNodeInfo(node_id='dc7355df-6a8e-4952-b055-6023092277b2', node_type='4', metadata={'file_path': '/workspaces/introduction-to-retrieval-augmented-generation-rag-with-hands-on-projects-2023442/chapter_1/../Big Star Collectibles/Our Story.txt', 'file_name': 'Our Story.txt', 'file_type': 'text/plain', 'file_size': 877, 'creation_date': '2025-07-17', 'last_modified_date': '2025-07-17'}, hash='d0fc202d393870ae8987953875d96ec68c5ee708a4084108e3d2ccadf6c23cf4')}, metadata_template='{key}: {value}', metadata_separator='\\n', text='Our story began at the International Arts Conference in 2013. Our founder, Saura Chen, a trained photographer, captured a series of candid images and portraits of the keynote speaker and presenters at the event, and provided print copies of the photographs to attendees at the end of the day. When she overheard a group of attendees attempting to secure autographs from the presenters and negotiating photo trades, the seeds for Big Star Collectibles were planted. \\n\\nLaunched officially in 2014, Saura was determined to create high-quality trading cards that were desirable and valuable for the collecting community. Besides monthly releases for the casual collector, Big Star Collectibles also releases limited editions and one-of-a-kind items. \\n\\nBig Star Collectibles has grown over the years to include memorabilia, contests, events, appraisals, and consultation services.', mimetype='text/plain', start_char_idx=0, end_char_idx=875, metadata_seperator='\\n', text_template='{metadata_str}\\n\\n{content}'), score=0.6609784041243154),\n",
       " NodeWithScore(node=TextNode(id_='dce64fce-d710-4197-9fb0-99f593a99208', embedding=None, metadata={'file_path': '/workspaces/introduction-to-retrieval-augmented-generation-rag-with-hands-on-projects-2023442/chapter_1/../Big Star Collectibles/What We Do.txt', 'file_name': 'What We Do.txt', 'file_type': 'text/plain', 'file_size': 1212, 'creation_date': '2025-07-17', 'last_modified_date': '2025-07-17'}, excluded_embed_metadata_keys=['file_name', 'file_type', 'file_size', 'creation_date', 'last_modified_date', 'last_accessed_date'], excluded_llm_metadata_keys=['file_name', 'file_type', 'file_size', 'creation_date', 'last_modified_date', 'last_accessed_date'], relationships={<NodeRelationship.SOURCE: '1'>: RelatedNodeInfo(node_id='2e6c3972-0a42-4b52-ac08-eb07dc148ea3', node_type='4', metadata={'file_path': '/workspaces/introduction-to-retrieval-augmented-generation-rag-with-hands-on-projects-2023442/chapter_1/../Big Star Collectibles/What We Do.txt', 'file_name': 'What We Do.txt', 'file_type': 'text/plain', 'file_size': 1212, 'creation_date': '2025-07-17', 'last_modified_date': '2025-07-17'}, hash='4f9217fee55cee6c6bfc9f42cb8df42c9d57c840906d46128d4d5cf9dae0a06c')}, metadata_template='{key}: {value}', metadata_separator='\\n', text='We go to the far reaches of the galaxy to bring top quality, authentic, and rare collectibles right to your door. \\n\\nDesign and Sell\\nThe most apparent of our activities is designing and selling collectibles that reflect what our customers enjoy and want. Our team of product designers analyze and speculate new collectibles based on customer and market feedback. And we love surprising you.\\n\\nSearch and Broker\\nFor a fee, our experts can assist you in finding a particular Big Star Collectibles item that you have been looking for. Big Star Collectibles can also broker sales and trades among our customers.\\n\\nEducate\\nBesides being able to assess a piece or collection for its authenticity, we also take great care in educating our customers and potential customers on the nuances of fake or altered collectibles. \\n\\nConsult\\nWe welcome your inquiries about products and collectibles from other sources. Our experts can give you an idea of an item’s sale and retail price points, as well as calculate the cash basis for insurance against theft or damage. These consults are done one-on-one with you to retain your privacy, either in our studio or via 3D-video chat. Contact us today to set up an appointment.', mimetype='text/plain', start_char_idx=0, end_char_idx=1203, metadata_seperator='\\n', text_template='{metadata_str}\\n\\n{content}'), score=0.6212165285291287)]"
      ]
     },
     "execution_count": 6,
     "metadata": {},
     "output_type": "execute_result"
    }
   ],
   "source": [
    "retriever.retrieve(\"Big Star Collectibles Started in\")"
   ]
  },
  {
   "cell_type": "code",
   "execution_count": null,
   "metadata": {},
   "outputs": [],
   "source": []
  }
 ],
 "metadata": {
  "kernelspec": {
   "display_name": "Python 3",
   "language": "python",
   "name": "python3"
  },
  "language_info": {
   "codemirror_mode": {
    "name": "ipython",
    "version": 3
   },
   "file_extension": ".py",
   "mimetype": "text/x-python",
   "name": "python",
   "nbconvert_exporter": "python",
   "pygments_lexer": "ipython3",
   "version": "3.12.11"
  }
 },
 "nbformat": 4,
 "nbformat_minor": 2
}
