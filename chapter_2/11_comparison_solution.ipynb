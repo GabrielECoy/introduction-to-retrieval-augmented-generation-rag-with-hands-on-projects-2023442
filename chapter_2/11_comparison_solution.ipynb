{
 "cells": [
  {
   "cell_type": "code",
   "execution_count": 1,
   "metadata": {},
   "outputs": [
    {
     "name": "stdout",
     "output_type": "stream",
     "text": [
      "Done\n"
     ]
    }
   ],
   "source": [
    "import os\n",
    "import dotenv\n",
    "\n",
    "dotenv.load_dotenv()\n",
    "\n",
    "if not os.getenv(\"GITHUB_TOKEN\"):\n",
    "    raise ValueError(\"GITHUB_TOKEN is not set\")\n",
    "\n",
    "os.environ[\"OPENAI_API_KEY\"] = os.getenv(\"GITHUB_TOKEN\")\n",
    "os.environ[\"OPENAI_BASE_URL\"] = \"https://models.inference.ai.azure.com/\"\n",
    "\n",
    "print(\"Done\")"
   ]
  },
  {
   "cell_type": "code",
   "execution_count": 2,
   "metadata": {},
   "outputs": [
    {
     "name": "stdout",
     "output_type": "stream",
     "text": [
      "Done\n"
     ]
    }
   ],
   "source": [
    "from llama_index.llms.openai import OpenAI\n",
    "from llama_index.embeddings.openai import OpenAIEmbedding\n",
    "from llama_index.core import VectorStoreIndex, SimpleDirectoryReader, StorageContext, load_index_from_storage\n",
    "from llama_index.core import Settings\n",
    "import os\n",
    "\n",
    "llm = OpenAI(\n",
    "    model=\"gpt-4o-mini\",\n",
    "    api_key=os.getenv(\"OPENAI_API_KEY\"),\n",
    "    api_base=os.getenv(\"OPENAI_BASE_URL\"),\n",
    ")\n",
    "\n",
    "embed_model = OpenAIEmbedding(\n",
    "    model=\"text-embedding-3-small\",\n",
    "    api_key=os.getenv(\"OPENAI_API_KEY\"),\n",
    "    api_base=os.getenv(\"OPENAI_BASE_URL\"),\n",
    ")\n",
    "\n",
    "Settings.embed_model = embed_model\n",
    "\n",
    "print(\"Done\")"
   ]
  },
  {
   "cell_type": "code",
   "execution_count": 3,
   "metadata": {},
   "outputs": [
    {
     "name": "stderr",
     "output_type": "stream",
     "text": [
      "/home/vscode/.local/lib/python3.12/site-packages/tqdm/auto.py:21: TqdmWarning: IProgress not found. Please update jupyter and ipywidgets. See https://ipywidgets.readthedocs.io/en/stable/user_install.html\n",
      "  from .autonotebook import tqdm as notebook_tqdm\n"
     ]
    },
    {
     "name": "stdout",
     "output_type": "stream",
     "text": [
      "🌍 To view the Phoenix app in your browser, visit http://localhost:6006/\n",
      "📖 For more information on how to use Phoenix, check out https://docs.arize.com/phoenix\n"
     ]
    },
    {
     "data": {
      "text/plain": [
       "<phoenix.session.session.ThreadSession at 0x7c1be3b79eb0>"
      ]
     },
     "execution_count": 3,
     "metadata": {},
     "output_type": "execute_result"
    }
   ],
   "source": [
    "import phoenix as px\n",
    "px.launch_app()"
   ]
  },
  {
   "cell_type": "code",
   "execution_count": 4,
   "metadata": {},
   "outputs": [
    {
     "name": "stdout",
     "output_type": "stream",
     "text": [
      "🔭 OpenTelemetry Tracing Details 🔭\n",
      "|  Phoenix Project: default\n",
      "|  Span Processor: SimpleSpanProcessor\n",
      "|  Collector Endpoint: localhost:4317\n",
      "|  Transport: gRPC\n",
      "|  Transport Headers: {'user-agent': '****'}\n",
      "|  \n",
      "|  Using a default SpanProcessor. `add_span_processor` will overwrite this default.\n",
      "|  \n",
      "|  ⚠️ WARNING: It is strongly advised to use a BatchSpanProcessor in production environments.\n",
      "|  \n",
      "|  `register` has set this TracerProvider as the global OpenTelemetry default.\n",
      "|  To disable this behavior, call `register` with `set_global_tracer_provider=False`.\n",
      "\n"
     ]
    }
   ],
   "source": [
    "from openinference.instrumentation.llama_index import LlamaIndexInstrumentor\n",
    "from phoenix.otel import register\n",
    "\n",
    "tracer_provider = register()\n",
    "LlamaIndexInstrumentor().instrument(tracer_provider=tracer_provider)"
   ]
  },
  {
   "cell_type": "code",
   "execution_count": 5,
   "metadata": {},
   "outputs": [
    {
     "name": "stdout",
     "output_type": "stream",
     "text": [
      "documents reader ready\n",
      "Current Directory: /workspaces/introduction-to-retrieval-augmented-generation-rag-with-hands-on-projects-2023442/chapter_2\n",
      "Loaded\n",
      "Persisted\n"
     ]
    }
   ],
   "source": [
    "documents = SimpleDirectoryReader(\"../Big Star Collectibles\").load_data()\n",
    "print(\"documents reader ready\")\n",
    "print(\"Current Directory:\", os.getcwd())\n",
    "index_1 = VectorStoreIndex.from_documents(documents, insert_batch_size=150)\n",
    "print(\"Loaded\")\n",
    "index_1.storage_context.persist(persist_dir=\"../local_index_1\")\n",
    "print(\"Persisted\")"
   ]
  },
  {
   "cell_type": "code",
   "execution_count": 6,
   "metadata": {},
   "outputs": [],
   "source": [
    "# one example solution\n",
    "Settings.chunk_size = 500\n",
    "Settings.chunk_overlap = 100\n",
    "index_2 = VectorStoreIndex.from_documents(documents, insert_batch_size=150)\n",
    "index_2.storage_context.persist(persist_dir=\"../local_index_2\")"
   ]
  },
  {
   "cell_type": "code",
   "execution_count": 7,
   "metadata": {},
   "outputs": [
    {
     "data": {
      "text/plain": [
       "Response(response='Big Star Collectibles was officially launched in 2014.', source_nodes=[NodeWithScore(node=TextNode(id_='efb78c12-30be-4321-bfee-f261a43c6f59', embedding=None, metadata={'file_path': '/workspaces/introduction-to-retrieval-augmented-generation-rag-with-hands-on-projects-2023442/chapter_2/../Big Star Collectibles/Our Story.txt', 'file_name': 'Our Story.txt', 'file_type': 'text/plain', 'file_size': 877, 'creation_date': '2025-07-17', 'last_modified_date': '2025-07-17'}, excluded_embed_metadata_keys=['file_name', 'file_type', 'file_size', 'creation_date', 'last_modified_date', 'last_accessed_date'], excluded_llm_metadata_keys=['file_name', 'file_type', 'file_size', 'creation_date', 'last_modified_date', 'last_accessed_date'], relationships={<NodeRelationship.SOURCE: '1'>: RelatedNodeInfo(node_id='9addd02c-442c-4f97-aacb-fb26005ec2a2', node_type='4', metadata={'file_path': '/workspaces/introduction-to-retrieval-augmented-generation-rag-with-hands-on-projects-2023442/chapter_2/../Big Star Collectibles/Our Story.txt', 'file_name': 'Our Story.txt', 'file_type': 'text/plain', 'file_size': 877, 'creation_date': '2025-07-17', 'last_modified_date': '2025-07-17'}, hash='d79f6e0dcfc46a201066e580a39c0c2661520e1742197fa1e89b9b070191ee00')}, metadata_template='{key}: {value}', metadata_separator='\\n', text='Our story began at the International Arts Conference in 2013. Our founder, Saura Chen, a trained photographer, captured a series of candid images and portraits of the keynote speaker and presenters at the event, and provided print copies of the photographs to attendees at the end of the day. When she overheard a group of attendees attempting to secure autographs from the presenters and negotiating photo trades, the seeds for Big Star Collectibles were planted. \\n\\nLaunched officially in 2014, Saura was determined to create high-quality trading cards that were desirable and valuable for the collecting community. Besides monthly releases for the casual collector, Big Star Collectibles also releases limited editions and one-of-a-kind items. \\n\\nBig Star Collectibles has grown over the years to include memorabilia, contests, events, appraisals, and consultation services.', mimetype='text/plain', start_char_idx=0, end_char_idx=875, metadata_seperator='\\n', text_template='{metadata_str}\\n\\n{content}'), score=0.6980038960598375), NodeWithScore(node=TextNode(id_='cf581ffd-7a22-4792-bcc0-a270e8a6b78d', embedding=None, metadata={'file_path': '/workspaces/introduction-to-retrieval-augmented-generation-rag-with-hands-on-projects-2023442/chapter_2/../Big Star Collectibles/What We Do.txt', 'file_name': 'What We Do.txt', 'file_type': 'text/plain', 'file_size': 1212, 'creation_date': '2025-07-17', 'last_modified_date': '2025-07-17'}, excluded_embed_metadata_keys=['file_name', 'file_type', 'file_size', 'creation_date', 'last_modified_date', 'last_accessed_date'], excluded_llm_metadata_keys=['file_name', 'file_type', 'file_size', 'creation_date', 'last_modified_date', 'last_accessed_date'], relationships={<NodeRelationship.SOURCE: '1'>: RelatedNodeInfo(node_id='6e1f6687-2adf-4a25-9492-a1567dad7a16', node_type='4', metadata={'file_path': '/workspaces/introduction-to-retrieval-augmented-generation-rag-with-hands-on-projects-2023442/chapter_2/../Big Star Collectibles/What We Do.txt', 'file_name': 'What We Do.txt', 'file_type': 'text/plain', 'file_size': 1212, 'creation_date': '2025-07-17', 'last_modified_date': '2025-07-17'}, hash='a8d2147088f5bde046a8e24a7745c8b8927b5a8e3777d185a625bbf9f3fb0d69')}, metadata_template='{key}: {value}', metadata_separator='\\n', text='We go to the far reaches of the galaxy to bring top quality, authentic, and rare collectibles right to your door. \\n\\nDesign and Sell\\nThe most apparent of our activities is designing and selling collectibles that reflect what our customers enjoy and want. Our team of product designers analyze and speculate new collectibles based on customer and market feedback. And we love surprising you.\\n\\nSearch and Broker\\nFor a fee, our experts can assist you in finding a particular Big Star Collectibles item that you have been looking for. Big Star Collectibles can also broker sales and trades among our customers.\\n\\nEducate\\nBesides being able to assess a piece or collection for its authenticity, we also take great care in educating our customers and potential customers on the nuances of fake or altered collectibles. \\n\\nConsult\\nWe welcome your inquiries about products and collectibles from other sources. Our experts can give you an idea of an item’s sale and retail price points, as well as calculate the cash basis for insurance against theft or damage. These consults are done one-on-one with you to retain your privacy, either in our studio or via 3D-video chat. Contact us today to set up an appointment.', mimetype='text/plain', start_char_idx=0, end_char_idx=1203, metadata_seperator='\\n', text_template='{metadata_str}\\n\\n{content}'), score=0.6476829588299879)], metadata={'efb78c12-30be-4321-bfee-f261a43c6f59': {'file_path': '/workspaces/introduction-to-retrieval-augmented-generation-rag-with-hands-on-projects-2023442/chapter_2/../Big Star Collectibles/Our Story.txt', 'file_name': 'Our Story.txt', 'file_type': 'text/plain', 'file_size': 877, 'creation_date': '2025-07-17', 'last_modified_date': '2025-07-17'}, 'cf581ffd-7a22-4792-bcc0-a270e8a6b78d': {'file_path': '/workspaces/introduction-to-retrieval-augmented-generation-rag-with-hands-on-projects-2023442/chapter_2/../Big Star Collectibles/What We Do.txt', 'file_name': 'What We Do.txt', 'file_type': 'text/plain', 'file_size': 1212, 'creation_date': '2025-07-17', 'last_modified_date': '2025-07-17'}})"
      ]
     },
     "execution_count": 7,
     "metadata": {},
     "output_type": "execute_result"
    }
   ],
   "source": [
    "# solution\n",
    "query_engine = index_1.as_query_engine(\n",
    "  llm=llm\n",
    ")\n",
    "query_engine.query(\"When was Big Star Collectibles Started?\")"
   ]
  },
  {
   "cell_type": "code",
   "execution_count": 8,
   "metadata": {},
   "outputs": [
    {
     "data": {
      "text/plain": [
       "Response(response='Big Star Collectibles was officially launched in 2014.', source_nodes=[NodeWithScore(node=TextNode(id_='cf16d143-cf93-42e8-bb77-cf9d299b0e60', embedding=None, metadata={'file_path': '/workspaces/introduction-to-retrieval-augmented-generation-rag-with-hands-on-projects-2023442/chapter_2/../Big Star Collectibles/Our Story.txt', 'file_name': 'Our Story.txt', 'file_type': 'text/plain', 'file_size': 877, 'creation_date': '2025-07-17', 'last_modified_date': '2025-07-17'}, excluded_embed_metadata_keys=['file_name', 'file_type', 'file_size', 'creation_date', 'last_modified_date', 'last_accessed_date'], excluded_llm_metadata_keys=['file_name', 'file_type', 'file_size', 'creation_date', 'last_modified_date', 'last_accessed_date'], relationships={<NodeRelationship.SOURCE: '1'>: RelatedNodeInfo(node_id='9addd02c-442c-4f97-aacb-fb26005ec2a2', node_type='4', metadata={'file_path': '/workspaces/introduction-to-retrieval-augmented-generation-rag-with-hands-on-projects-2023442/chapter_2/../Big Star Collectibles/Our Story.txt', 'file_name': 'Our Story.txt', 'file_type': 'text/plain', 'file_size': 877, 'creation_date': '2025-07-17', 'last_modified_date': '2025-07-17'}, hash='d79f6e0dcfc46a201066e580a39c0c2661520e1742197fa1e89b9b070191ee00')}, metadata_template='{key}: {value}', metadata_separator='\\n', text='Our story began at the International Arts Conference in 2013. Our founder, Saura Chen, a trained photographer, captured a series of candid images and portraits of the keynote speaker and presenters at the event, and provided print copies of the photographs to attendees at the end of the day. When she overheard a group of attendees attempting to secure autographs from the presenters and negotiating photo trades, the seeds for Big Star Collectibles were planted. \\n\\nLaunched officially in 2014, Saura was determined to create high-quality trading cards that were desirable and valuable for the collecting community. Besides monthly releases for the casual collector, Big Star Collectibles also releases limited editions and one-of-a-kind items. \\n\\nBig Star Collectibles has grown over the years to include memorabilia, contests, events, appraisals, and consultation services.', mimetype='text/plain', start_char_idx=0, end_char_idx=875, metadata_seperator='\\n', text_template='{metadata_str}\\n\\n{content}'), score=0.6980038960598375), NodeWithScore(node=TextNode(id_='7f9702ac-5e38-41fc-a23f-2ea6cdd7f5d2', embedding=None, metadata={'file_path': '/workspaces/introduction-to-retrieval-augmented-generation-rag-with-hands-on-projects-2023442/chapter_2/../Big Star Collectibles/FAQ.txt', 'file_name': 'FAQ.txt', 'file_type': 'text/plain', 'file_size': 3174, 'creation_date': '2025-07-17', 'last_modified_date': '2025-07-17'}, excluded_embed_metadata_keys=['file_name', 'file_type', 'file_size', 'creation_date', 'last_modified_date', 'last_accessed_date'], excluded_llm_metadata_keys=['file_name', 'file_type', 'file_size', 'creation_date', 'last_modified_date', 'last_accessed_date'], relationships={<NodeRelationship.SOURCE: '1'>: RelatedNodeInfo(node_id='f6666e12-564e-42f0-a282-00a5a5b0b7cb', node_type='4', metadata={'file_path': '/workspaces/introduction-to-retrieval-augmented-generation-rag-with-hands-on-projects-2023442/chapter_2/../Big Star Collectibles/FAQ.txt', 'file_name': 'FAQ.txt', 'file_type': 'text/plain', 'file_size': 3174, 'creation_date': '2025-07-17', 'last_modified_date': '2025-07-17'}, hash='97e0feb649c1458736f2537e754316d84c9970b31c093373316dbc97c1c09168'), <NodeRelationship.NEXT: '3'>: RelatedNodeInfo(node_id='7335ed4e-d2cb-424e-b1a7-3f090b10a8bd', node_type='1', metadata={}, hash='fe2dc68289cc54c10064fe154ae8f13c2b504a8459afacce6069113b92967b9b')}, metadata_template='{key}: {value}', metadata_separator='\\n', text='What are Big Star Collectibles products printed on?\\nOur cards, high-quality photo prints, and other printed products are all reproduced on eco-friendly papers and fabrics. All of our products are water repellent (yes, even the paper-based products!) using our sustainable patent-pending coating system, guaranteeing long-term quality, collectability, and wearability.\\n\\nHow can I find out how much my Big Star Collectibles product is worth? \\nThere are a few ways to find out what your collectible is worth:\\nHire a Big Star Collectibles expert to conduct a formal appraisal. Depending on your needs, this can be a simple retail estimate, or a detailed analysis of its insurance replacement value, or a collectible’s projected value over a determined time frame.\\nKeep up with overall value trends on our website and newsletters.\\nPost about it in our online user’s forum. While this isn’t a precise measure of worth, it may give you an idea of its desirability among your peers.\\n\\nHow can I be the first to know about new products?\\nBecome a Big Star Collectibles insider! It’s easy: sign up for our monthly newsletters and official announcements about new collectibles and more.            \\n\\nWhy don’t you have more for sale?\\nFrom the start, Big Star Collectibles has been about quality rather than quantity. We strive to give our customers the absolute best of the best, and we also acknowledge that creating limited editions enhances and adds to the value of each product, now and in the future.\\n \\nWhere do you ship, and how much does it cost?\\nWe ship worldwide, and costs vary. When you check out and enter your shipping information, shipping choices and their respective costs will automatically calculate. If there is more than one option, it will ask you to pick the one you want to use.\\n\\n\\nSize chart\\n\\nUnisex sizing', mimetype='text/plain', start_char_idx=0, end_char_idx=1816, metadata_seperator='\\n', text_template='{metadata_str}\\n\\n{content}'), score=0.6598588802398229)], metadata={'cf16d143-cf93-42e8-bb77-cf9d299b0e60': {'file_path': '/workspaces/introduction-to-retrieval-augmented-generation-rag-with-hands-on-projects-2023442/chapter_2/../Big Star Collectibles/Our Story.txt', 'file_name': 'Our Story.txt', 'file_type': 'text/plain', 'file_size': 877, 'creation_date': '2025-07-17', 'last_modified_date': '2025-07-17'}, '7f9702ac-5e38-41fc-a23f-2ea6cdd7f5d2': {'file_path': '/workspaces/introduction-to-retrieval-augmented-generation-rag-with-hands-on-projects-2023442/chapter_2/../Big Star Collectibles/FAQ.txt', 'file_name': 'FAQ.txt', 'file_type': 'text/plain', 'file_size': 3174, 'creation_date': '2025-07-17', 'last_modified_date': '2025-07-17'}})"
      ]
     },
     "execution_count": 8,
     "metadata": {},
     "output_type": "execute_result"
    }
   ],
   "source": [
    "query_engine = index_2.as_query_engine(\n",
    "  llm=llm\n",
    ")\n",
    "query_engine.query(\"When was Big Star Collectibles Started?\")"
   ]
  },
  {
   "cell_type": "code",
   "execution_count": null,
   "metadata": {},
   "outputs": [],
   "source": []
  }
 ],
 "metadata": {
  "kernelspec": {
   "display_name": "Python 3",
   "language": "python",
   "name": "python3"
  },
  "language_info": {
   "codemirror_mode": {
    "name": "ipython",
    "version": 3
   },
   "file_extension": ".py",
   "mimetype": "text/x-python",
   "name": "python",
   "nbconvert_exporter": "python",
   "pygments_lexer": "ipython3",
   "version": "3.12.11"
  }
 },
 "nbformat": 4,
 "nbformat_minor": 2
}
