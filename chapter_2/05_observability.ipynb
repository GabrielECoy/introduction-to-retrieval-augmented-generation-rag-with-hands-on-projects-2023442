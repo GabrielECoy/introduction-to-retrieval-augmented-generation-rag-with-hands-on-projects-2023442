{
 "cells": [
  {
   "cell_type": "code",
   "execution_count": 1,
   "metadata": {},
   "outputs": [],
   "source": [
    "import os\n",
    "import dotenv\n",
    "\n",
    "dotenv.load_dotenv()\n",
    "\n",
    "if not os.getenv(\"GITHUB_TOKEN\"):\n",
    "    raise ValueError(\"GITHUB_TOKEN is not set\")\n",
    "\n",
    "os.environ[\"OPENAI_API_KEY\"] = os.getenv(\"GITHUB_TOKEN\")\n",
    "os.environ[\"OPENAI_BASE_URL\"] = \"https://models.inference.ai.azure.com/\""
   ]
  },
  {
   "cell_type": "code",
   "execution_count": 2,
   "metadata": {},
   "outputs": [],
   "source": [
    "from llama_index.llms.openai import OpenAI\n",
    "from llama_index.embeddings.openai import OpenAIEmbedding\n",
    "from llama_index.core import VectorStoreIndex, SimpleDirectoryReader, StorageContext, load_index_from_storage\n",
    "from llama_index.core import Settings\n",
    "import os\n",
    "\n",
    "llm = OpenAI(\n",
    "    model=\"gpt-4o-mini\",\n",
    "    api_key=os.getenv(\"OPENAI_API_KEY\"),\n",
    "    api_base=os.getenv(\"OPENAI_BASE_URL\"),\n",
    ")\n",
    "\n",
    "embed_model = OpenAIEmbedding(\n",
    "    model=\"text-embedding-3-small\",\n",
    "    api_key=os.getenv(\"OPENAI_API_KEY\"),\n",
    "    api_base=os.getenv(\"OPENAI_BASE_URL\"),\n",
    ")\n",
    "\n",
    "Settings.embed_model = embed_model"
   ]
  },
  {
   "cell_type": "code",
   "execution_count": 3,
   "metadata": {},
   "outputs": [
    {
     "name": "stderr",
     "output_type": "stream",
     "text": [
      "/home/vscode/.local/lib/python3.12/site-packages/tqdm/auto.py:21: TqdmWarning: IProgress not found. Please update jupyter and ipywidgets. See https://ipywidgets.readthedocs.io/en/stable/user_install.html\n",
      "  from .autonotebook import tqdm as notebook_tqdm\n"
     ]
    },
    {
     "name": "stdout",
     "output_type": "stream",
     "text": [
      "🌍 To view the Phoenix app in your browser, visit http://localhost:6006/\n",
      "📖 For more information on how to use Phoenix, check out https://docs.arize.com/phoenix\n"
     ]
    },
    {
     "data": {
      "text/plain": [
       "<phoenix.session.session.ThreadSession at 0x775a803d7fe0>"
      ]
     },
     "execution_count": 3,
     "metadata": {},
     "output_type": "execute_result"
    }
   ],
   "source": [
    "import phoenix as px\n",
    "px.launch_app()"
   ]
  },
  {
   "cell_type": "code",
   "execution_count": 4,
   "metadata": {},
   "outputs": [
    {
     "name": "stdout",
     "output_type": "stream",
     "text": [
      "🔭 OpenTelemetry Tracing Details 🔭\n",
      "|  Phoenix Project: default\n",
      "|  Span Processor: SimpleSpanProcessor\n",
      "|  Collector Endpoint: localhost:4317\n",
      "|  Transport: gRPC\n",
      "|  Transport Headers: {'user-agent': '****'}\n",
      "|  \n",
      "|  Using a default SpanProcessor. `add_span_processor` will overwrite this default.\n",
      "|  \n",
      "|  ⚠️ WARNING: It is strongly advised to use a BatchSpanProcessor in production environments.\n",
      "|  \n",
      "|  `register` has set this TracerProvider as the global OpenTelemetry default.\n",
      "|  To disable this behavior, call `register` with `set_global_tracer_provider=False`.\n",
      "\n"
     ]
    }
   ],
   "source": [
    "from openinference.instrumentation.llama_index import LlamaIndexInstrumentor\n",
    "from phoenix.otel import register\n",
    "\n",
    "tracer_provider = register()\n",
    "LlamaIndexInstrumentor().instrument(tracer_provider=tracer_provider)"
   ]
  },
  {
   "cell_type": "code",
   "execution_count": 5,
   "metadata": {},
   "outputs": [],
   "source": [
    "try:\n",
    "    storage_context = StorageContext.from_defaults(\n",
    "        persist_dir=\"../local_index\"\n",
    "    )\n",
    "    index = load_index_from_storage(storage_context)\n",
    "except:\n",
    "    #Note: we have to reduce the batch size to stay within the token limits of the free service\n",
    "    documents = SimpleDirectoryReader(\"../Big Star Collectibles\").load_data()\n",
    "    index = VectorStoreIndex.from_documents(documents, insert_batch_size=150)\n",
    "    index.storage_context.persist(persist_dir=\"../local_index\")"
   ]
  },
  {
   "cell_type": "code",
   "execution_count": 6,
   "metadata": {},
   "outputs": [
    {
     "data": {
      "text/plain": [
       "Response(response='The story for Big Star Collectibles began in 2013 at the International Arts Conference.', source_nodes=[NodeWithScore(node=TextNode(id_='bd97ddbe-b7e3-49ab-ace1-83d6bf27aa8c', embedding=None, metadata={'file_path': '/workspaces/introduction-to-retrieval-augmented-generation-rag-with-hands-on-projects-2023442/chapter_1/../Big Star Collectibles/Our Story.txt', 'file_name': 'Our Story.txt', 'file_type': 'text/plain', 'file_size': 877, 'creation_date': '2025-04-21', 'last_modified_date': '2025-04-21'}, excluded_embed_metadata_keys=['file_name', 'file_type', 'file_size', 'creation_date', 'last_modified_date', 'last_accessed_date'], excluded_llm_metadata_keys=['file_name', 'file_type', 'file_size', 'creation_date', 'last_modified_date', 'last_accessed_date'], relationships={<NodeRelationship.SOURCE: '1'>: RelatedNodeInfo(node_id='5f607b1d-f730-464b-9fcd-d9497d854861', node_type='4', metadata={'file_path': '/workspaces/introduction-to-retrieval-augmented-generation-rag-with-hands-on-projects-2023442/chapter_1/../Big Star Collectibles/Our Story.txt', 'file_name': 'Our Story.txt', 'file_type': 'text/plain', 'file_size': 877, 'creation_date': '2025-04-21', 'last_modified_date': '2025-04-21'}, hash='42459ffc11ed84a24a7d1e5a672898f01e2f2040a3606f6e00f3ba93fa925122')}, metadata_template='{key}: {value}', metadata_separator='\\n', text='Our story began at the International Arts Conference in 2013. Our founder, Saura Chen, a trained photographer, captured a series of candid images and portraits of the keynote speaker and presenters at the event, and provided print copies of the photographs to attendees at the end of the day. When she overheard a group of attendees attempting to secure autographs from the presenters and negotiating photo trades, the seeds for Big Star Collectibles were planted. \\n\\nLaunched officially in 2014, Saura was determined to create high-quality trading cards that were desirable and valuable for the collecting community. Besides monthly releases for the casual collector, Big Star Collectibles also releases limited editions and one-of-a-kind items. \\n\\nBig Star Collectibles has grown over the years to include memorabilia, contests, events, appraisals, and consultation services.', mimetype='text/plain', start_char_idx=0, end_char_idx=875, metadata_seperator='\\n', text_template='{metadata_str}\\n\\n{content}'), score=0.722260343997665), NodeWithScore(node=TextNode(id_='29fa61aa-96cb-4a57-8cac-0f61e21a5d18', embedding=None, metadata={'file_path': '/workspaces/introduction-to-retrieval-augmented-generation-rag-with-hands-on-projects-2023442/chapter_1/../Big Star Collectibles/What We Do.txt', 'file_name': 'What We Do.txt', 'file_type': 'text/plain', 'file_size': 1212, 'creation_date': '2025-04-21', 'last_modified_date': '2025-04-21'}, excluded_embed_metadata_keys=['file_name', 'file_type', 'file_size', 'creation_date', 'last_modified_date', 'last_accessed_date'], excluded_llm_metadata_keys=['file_name', 'file_type', 'file_size', 'creation_date', 'last_modified_date', 'last_accessed_date'], relationships={<NodeRelationship.SOURCE: '1'>: RelatedNodeInfo(node_id='281822c4-2de2-4e55-9dc4-3f1484a04d39', node_type='4', metadata={'file_path': '/workspaces/introduction-to-retrieval-augmented-generation-rag-with-hands-on-projects-2023442/chapter_1/../Big Star Collectibles/What We Do.txt', 'file_name': 'What We Do.txt', 'file_type': 'text/plain', 'file_size': 1212, 'creation_date': '2025-04-21', 'last_modified_date': '2025-04-21'}, hash='707e315527895af6381457e7b00522792cb4c41190ec81b71fbf388813d6d0fd')}, metadata_template='{key}: {value}', metadata_separator='\\n', text='We go to the far reaches of the galaxy to bring top quality, authentic, and rare collectibles right to your door. \\n\\nDesign and Sell\\nThe most apparent of our activities is designing and selling collectibles that reflect what our customers enjoy and want. Our team of product designers analyze and speculate new collectibles based on customer and market feedback. And we love surprising you.\\n\\nSearch and Broker\\nFor a fee, our experts can assist you in finding a particular Big Star Collectibles item that you have been looking for. Big Star Collectibles can also broker sales and trades among our customers.\\n\\nEducate\\nBesides being able to assess a piece or collection for its authenticity, we also take great care in educating our customers and potential customers on the nuances of fake or altered collectibles. \\n\\nConsult\\nWe welcome your inquiries about products and collectibles from other sources. Our experts can give you an idea of an item’s sale and retail price points, as well as calculate the cash basis for insurance against theft or damage. These consults are done one-on-one with you to retain your privacy, either in our studio or via 3D-video chat. Contact us today to set up an appointment.', mimetype='text/plain', start_char_idx=0, end_char_idx=1203, metadata_seperator='\\n', text_template='{metadata_str}\\n\\n{content}'), score=0.6434237345228875)], metadata={'bd97ddbe-b7e3-49ab-ace1-83d6bf27aa8c': {'file_path': '/workspaces/introduction-to-retrieval-augmented-generation-rag-with-hands-on-projects-2023442/chapter_1/../Big Star Collectibles/Our Story.txt', 'file_name': 'Our Story.txt', 'file_type': 'text/plain', 'file_size': 877, 'creation_date': '2025-04-21', 'last_modified_date': '2025-04-21'}, '29fa61aa-96cb-4a57-8cac-0f61e21a5d18': {'file_path': '/workspaces/introduction-to-retrieval-augmented-generation-rag-with-hands-on-projects-2023442/chapter_1/../Big Star Collectibles/What We Do.txt', 'file_name': 'What We Do.txt', 'file_type': 'text/plain', 'file_size': 1212, 'creation_date': '2025-04-21', 'last_modified_date': '2025-04-21'}})"
      ]
     },
     "execution_count": 6,
     "metadata": {},
     "output_type": "execute_result"
    }
   ],
   "source": [
    "# solution\n",
    "query_engine = index.as_query_engine(\n",
    "  llm=llm\n",
    ")\n",
    "query_engine.query(\"When did the story for Big Star Collectibles Start?\")"
   ]
  },
  {
   "cell_type": "code",
   "execution_count": 7,
   "metadata": {},
   "outputs": [
    {
     "data": {
      "text/plain": [
       "Response(response='Big Star Collectibles was started by Saura Chen.', source_nodes=[NodeWithScore(node=TextNode(id_='bd97ddbe-b7e3-49ab-ace1-83d6bf27aa8c', embedding=None, metadata={'file_path': '/workspaces/introduction-to-retrieval-augmented-generation-rag-with-hands-on-projects-2023442/chapter_1/../Big Star Collectibles/Our Story.txt', 'file_name': 'Our Story.txt', 'file_type': 'text/plain', 'file_size': 877, 'creation_date': '2025-04-21', 'last_modified_date': '2025-04-21'}, excluded_embed_metadata_keys=['file_name', 'file_type', 'file_size', 'creation_date', 'last_modified_date', 'last_accessed_date'], excluded_llm_metadata_keys=['file_name', 'file_type', 'file_size', 'creation_date', 'last_modified_date', 'last_accessed_date'], relationships={<NodeRelationship.SOURCE: '1'>: RelatedNodeInfo(node_id='5f607b1d-f730-464b-9fcd-d9497d854861', node_type='4', metadata={'file_path': '/workspaces/introduction-to-retrieval-augmented-generation-rag-with-hands-on-projects-2023442/chapter_1/../Big Star Collectibles/Our Story.txt', 'file_name': 'Our Story.txt', 'file_type': 'text/plain', 'file_size': 877, 'creation_date': '2025-04-21', 'last_modified_date': '2025-04-21'}, hash='42459ffc11ed84a24a7d1e5a672898f01e2f2040a3606f6e00f3ba93fa925122')}, metadata_template='{key}: {value}', metadata_separator='\\n', text='Our story began at the International Arts Conference in 2013. Our founder, Saura Chen, a trained photographer, captured a series of candid images and portraits of the keynote speaker and presenters at the event, and provided print copies of the photographs to attendees at the end of the day. When she overheard a group of attendees attempting to secure autographs from the presenters and negotiating photo trades, the seeds for Big Star Collectibles were planted. \\n\\nLaunched officially in 2014, Saura was determined to create high-quality trading cards that were desirable and valuable for the collecting community. Besides monthly releases for the casual collector, Big Star Collectibles also releases limited editions and one-of-a-kind items. \\n\\nBig Star Collectibles has grown over the years to include memorabilia, contests, events, appraisals, and consultation services.', mimetype='text/plain', start_char_idx=0, end_char_idx=875, metadata_seperator='\\n', text_template='{metadata_str}\\n\\n{content}'), score=0.700013677297559), NodeWithScore(node=TextNode(id_='29fa61aa-96cb-4a57-8cac-0f61e21a5d18', embedding=None, metadata={'file_path': '/workspaces/introduction-to-retrieval-augmented-generation-rag-with-hands-on-projects-2023442/chapter_1/../Big Star Collectibles/What We Do.txt', 'file_name': 'What We Do.txt', 'file_type': 'text/plain', 'file_size': 1212, 'creation_date': '2025-04-21', 'last_modified_date': '2025-04-21'}, excluded_embed_metadata_keys=['file_name', 'file_type', 'file_size', 'creation_date', 'last_modified_date', 'last_accessed_date'], excluded_llm_metadata_keys=['file_name', 'file_type', 'file_size', 'creation_date', 'last_modified_date', 'last_accessed_date'], relationships={<NodeRelationship.SOURCE: '1'>: RelatedNodeInfo(node_id='281822c4-2de2-4e55-9dc4-3f1484a04d39', node_type='4', metadata={'file_path': '/workspaces/introduction-to-retrieval-augmented-generation-rag-with-hands-on-projects-2023442/chapter_1/../Big Star Collectibles/What We Do.txt', 'file_name': 'What We Do.txt', 'file_type': 'text/plain', 'file_size': 1212, 'creation_date': '2025-04-21', 'last_modified_date': '2025-04-21'}, hash='707e315527895af6381457e7b00522792cb4c41190ec81b71fbf388813d6d0fd')}, metadata_template='{key}: {value}', metadata_separator='\\n', text='We go to the far reaches of the galaxy to bring top quality, authentic, and rare collectibles right to your door. \\n\\nDesign and Sell\\nThe most apparent of our activities is designing and selling collectibles that reflect what our customers enjoy and want. Our team of product designers analyze and speculate new collectibles based on customer and market feedback. And we love surprising you.\\n\\nSearch and Broker\\nFor a fee, our experts can assist you in finding a particular Big Star Collectibles item that you have been looking for. Big Star Collectibles can also broker sales and trades among our customers.\\n\\nEducate\\nBesides being able to assess a piece or collection for its authenticity, we also take great care in educating our customers and potential customers on the nuances of fake or altered collectibles. \\n\\nConsult\\nWe welcome your inquiries about products and collectibles from other sources. Our experts can give you an idea of an item’s sale and retail price points, as well as calculate the cash basis for insurance against theft or damage. These consults are done one-on-one with you to retain your privacy, either in our studio or via 3D-video chat. Contact us today to set up an appointment.', mimetype='text/plain', start_char_idx=0, end_char_idx=1203, metadata_seperator='\\n', text_template='{metadata_str}\\n\\n{content}'), score=0.6655090126673712)], metadata={'bd97ddbe-b7e3-49ab-ace1-83d6bf27aa8c': {'file_path': '/workspaces/introduction-to-retrieval-augmented-generation-rag-with-hands-on-projects-2023442/chapter_1/../Big Star Collectibles/Our Story.txt', 'file_name': 'Our Story.txt', 'file_type': 'text/plain', 'file_size': 877, 'creation_date': '2025-04-21', 'last_modified_date': '2025-04-21'}, '29fa61aa-96cb-4a57-8cac-0f61e21a5d18': {'file_path': '/workspaces/introduction-to-retrieval-augmented-generation-rag-with-hands-on-projects-2023442/chapter_1/../Big Star Collectibles/What We Do.txt', 'file_name': 'What We Do.txt', 'file_type': 'text/plain', 'file_size': 1212, 'creation_date': '2025-04-21', 'last_modified_date': '2025-04-21'}})"
      ]
     },
     "execution_count": 7,
     "metadata": {},
     "output_type": "execute_result"
    }
   ],
   "source": [
    "query_engine.query(\"Who started Big Star Collectibles?\")"
   ]
  },
  {
   "cell_type": "code",
   "execution_count": null,
   "metadata": {},
   "outputs": [],
   "source": []
  },
  {
   "cell_type": "code",
   "execution_count": null,
   "metadata": {},
   "outputs": [],
   "source": []
  }
 ],
 "metadata": {
  "kernelspec": {
   "display_name": "Python 3",
   "language": "python",
   "name": "python3"
  },
  "language_info": {
   "codemirror_mode": {
    "name": "ipython",
    "version": 3
   },
   "file_extension": ".py",
   "mimetype": "text/x-python",
   "name": "python",
   "nbconvert_exporter": "python",
   "pygments_lexer": "ipython3",
   "version": "3.12.10"
  }
 },
 "nbformat": 4,
 "nbformat_minor": 2
}
